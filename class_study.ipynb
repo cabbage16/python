{
  "cells": [
    {
      "cell_type": "code",
      "execution_count": 1,
      "metadata": {
        "colab": {
          "base_uri": "https://localhost:8080/"
        },
        "id": "py1tPvfhnAuu",
        "outputId": "812e64ce-fcdf-4b55-99d5-e493e47a5472"
      },
      "outputs": [
        {
          "name": "stdout",
          "output_type": "stream",
          "text": [
            "3\n",
            "7\n"
          ]
        }
      ],
      "source": [
        "#더하기 기능을 구현한 함수\n",
        "result = 0\n",
        "\n",
        "def add(n):\n",
        "    global result\n",
        "    result += n\n",
        "    return result\n",
        "\n",
        "print(add(3))\n",
        "print(add(4))"
      ]
    },
    {
      "cell_type": "code",
      "execution_count": 2,
      "metadata": {
        "colab": {
          "base_uri": "https://localhost:8080/"
        },
        "id": "o_BEgDYZaTTT",
        "outputId": "4dd57c90-2bc4-4dcd-f842-ccd622d93462"
      },
      "outputs": [
        {
          "name": "stdout",
          "output_type": "stream",
          "text": [
            "3\n",
            "7\n",
            "3\n",
            "10\n"
          ]
        }
      ],
      "source": [
        "#2대의 덧셈 계산기가 필요한 상황, 두 계산기가 각각 작동하기위해 두개의 함수를 만듦\n",
        "#예상대로 add1의 결과가 add2의 결과에 영향을 미치지 않지만, 비효율적\n",
        "result1 = 0\n",
        "result2 = 0\n",
        "\n",
        "def add1(n):\n",
        "  global result1\n",
        "  result1 += n\n",
        "  return result1\n",
        "\n",
        "def add2(n):\n",
        "  global result2\n",
        "  result2 += n\n",
        "  return result2\n",
        "\n",
        "print(add1(3))\n",
        "print(add1(4))\n",
        "print(add2(3))\n",
        "print(add2(7))"
      ]
    },
    {
      "cell_type": "code",
      "execution_count": 3,
      "metadata": {
        "colab": {
          "base_uri": "https://localhost:8080/"
        },
        "id": "vZP26f_gbGvb",
        "outputId": "2a9f17d7-023f-47bf-8273-581bf68ffcaa"
      },
      "outputs": [
        {
          "name": "stdout",
          "output_type": "stream",
          "text": [
            "3\n",
            "7\n",
            "-3\n",
            "-10\n"
          ]
        }
      ],
      "source": [
        "#클래스를 이용해 두 개의 함수를 각각 만들지 않고도 서로의 결과가 영향을 미치지 않도록 구현\n",
        "class Calculator:\n",
        "  def __init__(self):\n",
        "    self.result = 0\n",
        "\n",
        "  def add(self, n): #이처럼 클래스를 통해 만들어진 함수를 메서드(Method)라고 한다.\n",
        "    self.result += n\n",
        "    return self.result\n",
        "\n",
        "  def sub(self, n):\n",
        "    self.result -= n\n",
        "    return self.result\n",
        "\n",
        "cal1 = Calculator() #이렇게 클래스로 객체를 생성할 수 있다\n",
        "cal2 = Calculator() #클래스로 만든 객체를 인스턴스라고도 한다.\n",
        "#cal2는 객체이고 cal2객체는 Calculator의 인스턴스라고 한다.\n",
        "\n",
        "print(cal1.add(3))\n",
        "print(cal1.add(4))\n",
        "print(cal2.sub(3))\n",
        "print(cal2.sub(7))"
      ]
    },
    {
      "cell_type": "code",
      "execution_count": 4,
      "metadata": {
        "colab": {
          "base_uri": "https://localhost:8080/"
        },
        "id": "hDhDSKlVb2aX",
        "outputId": "700bb8aa-5a8c-4113-944f-627e298c9500"
      },
      "outputs": [
        {
          "name": "stdout",
          "output_type": "stream",
          "text": [
            "6\n",
            "2\n",
            "8\n",
            "2.0\n",
            "11\n",
            "-5\n",
            "24\n",
            "0.375\n"
          ]
        }
      ],
      "source": [
        "class FourCal:\n",
        "  def __init__(self, first, second): #메서드 이름을 __init__으로 설정하면 자동으로 생성자가 되어 객체가 생성되는 시점에 자동으로 호출된다.\n",
        "    self.first = first\n",
        "    self.second = second\n",
        "\n",
        "  def add(self):\n",
        "    result = self.first + self.second\n",
        "    return result\n",
        "\n",
        "  def sub(self):\n",
        "    result = self.first - self.second\n",
        "    return result\n",
        "\n",
        "  def mul(self):\n",
        "    result = self.first * self.second\n",
        "    return result\n",
        "\n",
        "  def div(self):\n",
        "    result = self.first / self.second\n",
        "    return result\n",
        "\n",
        "a = FourCal(4, 2)\n",
        "b = FourCal(3, 8)\n",
        "\n",
        "print(a.add())\n",
        "print(a.sub())\n",
        "print(a.mul())\n",
        "print(a.div())\n",
        "print(b.add())\n",
        "print(b.sub())\n",
        "print(b.mul())\n",
        "print(b.div())"
      ]
    },
    {
      "cell_type": "code",
      "execution_count": 5,
      "metadata": {
        "colab": {
          "base_uri": "https://localhost:8080/"
        },
        "id": "IUdOiWJxkHkn",
        "outputId": "9a4b948d-5e8e-4fd1-e92e-7fb31f0b3e88"
      },
      "outputs": [
        {
          "name": "stdout",
          "output_type": "stream",
          "text": [
            "7\n",
            "-1\n",
            "12\n",
            "0.75\n"
          ]
        }
      ],
      "source": [
        "#위 코드를 바탕으로 사용자 입력을 받아 사칙연산을 수행하는 코드를 만들었다.\n",
        "class FourCal:\n",
        "  def __init__(self, first, second):\n",
        "    self.first = first\n",
        "    self.second = second\n",
        "\n",
        "  def add(self):\n",
        "    result = self.first + self.second\n",
        "    return result\n",
        "\n",
        "  def sub(self):\n",
        "    result = self.first - self.second\n",
        "    return result\n",
        "\n",
        "  def mul(self):\n",
        "    result = self.first * self.second\n",
        "    return result\n",
        "\n",
        "  def div(self):\n",
        "    result = self.first / self.second\n",
        "    return result\n",
        "\n",
        "n1, n2 = map(int,input().split())\n",
        "a = FourCal(n1, n2)\n",
        "print(a.add())\n",
        "print(a.sub())\n",
        "print(a.mul())\n",
        "print(a.div())"
      ]
    },
    {
      "cell_type": "code",
      "execution_count": 6,
      "metadata": {
        "colab": {
          "base_uri": "https://localhost:8080/"
        },
        "id": "N-Uad1_5kj2t",
        "outputId": "131d2ad6-5286-4be9-f2b3-d80646be46c3"
      },
      "outputs": [
        {
          "name": "stdout",
          "output_type": "stream",
          "text": [
            "6\n",
            "2\n",
            "8\n",
            "2.0\n"
          ]
        }
      ],
      "source": [
        "#클래스의 상속\n",
        "class FourCal:\n",
        "  def __init__(self, first, second):\n",
        "    self.first = first\n",
        "    self.second = second\n",
        "\n",
        "  def add(self):\n",
        "    result = self.first + self.second\n",
        "    return result\n",
        "\n",
        "  def sub(self):\n",
        "    result = self.first - self.second\n",
        "    return result\n",
        "\n",
        "  def mul(self):\n",
        "    result = self.first * self.second\n",
        "    return result\n",
        "\n",
        "  def div(self):\n",
        "    result = self.first / self.second\n",
        "    return result\n",
        "\n",
        "class MoreFourCal(FourCal): #클래스를 상속하기 위해서는 다음처럼 클래스 이름 뒤 괄호 안에 상속할 클래스의 이름을 넣어준다.\n",
        "  #이 경우 MoreFourCal클래스가 FourCal클래스를 상속했다.\n",
        "  #클래스의 상속이란, 어떤 클래스를 만들 때 다른 클래스의 기능을 물려받을 수 있게 만드는 것이다.\n",
        "  pass\n",
        "\n",
        "a = MoreFourCal(4, 2)\n",
        "print(a.add())\n",
        "print(a.sub())\n",
        "print(a.mul())\n",
        "print(a.div())\n",
        "#MoreFourCal클래스에서 상속받은 FourCal클래스의 기능을 모두 사용할 수 있다.\n",
        "# 클래스에 기능을 추가하고 싶다면 기존 클래스를 수정하면 되지만,\n",
        "# 기존 클래스가 라이브러리 형태로 제공되거나 수정이 허용되지 않는 상황이라면\n",
        "# 상속을 사용해서 기능을 추가할 수 있다"
      ]
    }
  ],
  "metadata": {
    "colab": {
      "provenance": []
    },
    "kernelspec": {
      "display_name": "Python 3",
      "name": "python3"
    },
    "language_info": {
      "codemirror_mode": {
        "name": "ipython",
        "version": 3
      },
      "file_extension": ".py",
      "mimetype": "text/x-python",
      "name": "python",
      "nbconvert_exporter": "python",
      "pygments_lexer": "ipython3",
      "version": "3.11.3"
    }
  },
  "nbformat": 4,
  "nbformat_minor": 0
}
